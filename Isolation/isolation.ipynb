{
 "cells": [
  {
   "cell_type": "code",
   "execution_count": 3,
   "metadata": {},
   "outputs": [],
   "source": [
    "#!pip install tabulate\n",
    "from isolation_env import IsolationEnv\n",
    "from input_agent import InputAgent\n",
    "from random_agent import RandomAgent\n",
    "from stratagem import Stratagem\n",
    "from play import play_vs_other_agent"
   ]
  },
  {
   "cell_type": "code",
   "execution_count": 4,
   "metadata": {},
   "outputs": [
    {
     "data": {
      "text/plain": [
       "Discrete(9)"
      ]
     },
     "execution_count": 4,
     "metadata": {},
     "output_type": "execute_result"
    }
   ],
   "source": [
    "env = IsolationEnv()\n",
    "input_agent = InputAgent()\n",
    "env.action_space"
   ]
  },
  {
   "cell_type": "markdown",
   "metadata": {},
   "source": [
    "Input Agents"
   ]
  },
  {
   "cell_type": "code",
   "execution_count": 5,
   "metadata": {},
   "outputs": [],
   "source": [
    "#play_vs_other_agent(env, agent1=input_agent, agent2=input_agent)"
   ]
  },
  {
   "cell_type": "markdown",
   "metadata": {},
   "source": [
    "Random Agents"
   ]
  },
  {
   "cell_type": "code",
   "execution_count": 6,
   "metadata": {},
   "outputs": [
    {
     "name": "stdout",
     "output_type": "stream",
     "text": [
      "+-----+-----+-----+-----+-----+\n",
      "|     | 0   | 1   | 2   | 3   |\n",
      "+=====+=====+=====+=====+=====+\n",
      "|   0 | B   |     |     |     |\n",
      "+-----+-----+-----+-----+-----+\n",
      "|   1 |     | R   |     |     |\n",
      "+-----+-----+-----+-----+-----+\n",
      "|   2 |     |     |     |     |\n",
      "+-----+-----+-----+-----+-----+\n",
      "|   3 |     |     |     |     |\n",
      "+-----+-----+-----+-----+-----+\n",
      "+-----+-----+-----+-----+-----+\n",
      "|     | 0   | 1   | 2   | 3   |\n",
      "+=====+=====+=====+=====+=====+\n",
      "|   0 | X   | B   |     |     |\n",
      "+-----+-----+-----+-----+-----+\n",
      "|   1 |     | R   |     |     |\n",
      "+-----+-----+-----+-----+-----+\n",
      "|   2 |     |     |     |     |\n",
      "+-----+-----+-----+-----+-----+\n",
      "|   3 |     |     |     | X   |\n",
      "+-----+-----+-----+-----+-----+\n",
      "+-----+-----+-----+-----+-----+\n",
      "|     | 0   | 1   | 2   | 3   |\n",
      "+=====+=====+=====+=====+=====+\n",
      "|   0 | X   | B   |     |     |\n",
      "+-----+-----+-----+-----+-----+\n",
      "|   1 |     | X   | X   |     |\n",
      "+-----+-----+-----+-----+-----+\n",
      "|   2 |     | R   |     |     |\n",
      "+-----+-----+-----+-----+-----+\n",
      "|   3 |     |     |     | X   |\n",
      "+-----+-----+-----+-----+-----+\n",
      "+-----+-----+-----+-----+-----+\n",
      "|     | 0   | 1   | 2   | 3   |\n",
      "+=====+=====+=====+=====+=====+\n",
      "|   0 | X   | X   | B   |     |\n",
      "+-----+-----+-----+-----+-----+\n",
      "|   1 |     | X   | X   | X   |\n",
      "+-----+-----+-----+-----+-----+\n",
      "|   2 |     | R   |     |     |\n",
      "+-----+-----+-----+-----+-----+\n",
      "|   3 |     |     |     | X   |\n",
      "+-----+-----+-----+-----+-----+\n",
      "+-----+-----+-----+-----+-----+\n",
      "|     | 0   | 1   | 2   | 3   |\n",
      "+=====+=====+=====+=====+=====+\n",
      "|   0 | X   | X   | B   |     |\n",
      "+-----+-----+-----+-----+-----+\n",
      "|   1 |     | X   | X   | X   |\n",
      "+-----+-----+-----+-----+-----+\n",
      "|   2 |     | X   | R   |     |\n",
      "+-----+-----+-----+-----+-----+\n",
      "|   3 | X   |     |     | X   |\n",
      "+-----+-----+-----+-----+-----+\n",
      "+-----+-----+-----+-----+-----+\n",
      "|     | 0   | 1   | 2   | 3   |\n",
      "+=====+=====+=====+=====+=====+\n",
      "|   0 | X   | X   | X   | B   |\n",
      "+-----+-----+-----+-----+-----+\n",
      "|   1 | X   | X   | X   | X   |\n",
      "+-----+-----+-----+-----+-----+\n",
      "|   2 |     | X   | R   |     |\n",
      "+-----+-----+-----+-----+-----+\n",
      "|   3 | X   |     |     | X   |\n",
      "+-----+-----+-----+-----+-----+\n",
      "+-----+-----+-----+-----+-----+\n",
      "|     | 0   | 1   | 2   | 3   |\n",
      "+=====+=====+=====+=====+=====+\n",
      "|   0 | X   | X   | X   | B   |\n",
      "+-----+-----+-----+-----+-----+\n",
      "|   1 | X   | X   | X   | X   |\n",
      "+-----+-----+-----+-----+-----+\n",
      "|   2 |     | X   | X   |     |\n",
      "+-----+-----+-----+-----+-----+\n",
      "|   3 | X   | R   | X   | X   |\n",
      "+-----+-----+-----+-----+-----+\n",
      "Player 2 WON\n"
     ]
    }
   ],
   "source": [
    "play_vs_other_agent(env, agent1=RandomAgent(1), agent2=RandomAgent(2), render=True)"
   ]
  },
  {
   "cell_type": "markdown",
   "metadata": {},
   "source": [
    "Random Agent vs Stratagem"
   ]
  },
  {
   "cell_type": "code",
   "execution_count": 7,
   "metadata": {},
   "outputs": [
    {
     "name": "stdout",
     "output_type": "stream",
     "text": [
      "Player 2 WON\n"
     ]
    }
   ],
   "source": [
    "play_vs_other_agent(env, agent1=RandomAgent(1), agent2=Stratagem(2))"
   ]
  }
 ],
 "metadata": {
  "kernelspec": {
   "display_name": "Python 3",
   "language": "python",
   "name": "python3"
  },
  "language_info": {
   "codemirror_mode": {
    "name": "ipython",
    "version": 3
   },
   "file_extension": ".py",
   "mimetype": "text/x-python",
   "name": "python",
   "nbconvert_exporter": "python",
   "pygments_lexer": "ipython3",
   "version": "3.9.6"
  }
 },
 "nbformat": 4,
 "nbformat_minor": 2
}
